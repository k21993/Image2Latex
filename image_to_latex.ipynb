{
 "cells": [
  {
   "cell_type": "code",
   "execution_count": 45,
   "metadata": {
    "collapsed": true
   },
   "outputs": [],
   "source": [
    "\"\"\"IMAGE TO LATEX CONVERSION\"\"\"\n",
    "\n",
    "###import libraries\n",
    "import numpy as np\n",
    "import tensorflow as tf\n",
    "import keras\n",
    "import os\n",
    "from PIL import Image\n",
    "import glob\n",
    "import cv2\n",
    "from keras.models import Sequential\n",
    "from keras.layers import Dense\n",
    "from keras.layers import Dropout\n",
    "from keras.layers import Flatten\n",
    "from keras.constraints import maxnorm\n",
    "from keras.optimizers import SGD\n",
    "from keras.layers.convolutional import Conv2D\n",
    "from keras.layers.convolutional import MaxPooling2D\n",
    "from keras.layers import LSTM, Bidirectional\n",
    "from keras.layers import GRU\n",
    "from keras.utils import np_utils\n",
    "from keras import backend as K\n",
    "K.set_image_dim_ordering('th')\n",
    "import pandas as pd\n",
    "import PIL\n",
    "from PIL import Image\n",
    "import seq2seq\n",
    "from seq2seq import  AttentionSeq2Seq\n",
    "import os"
   ]
  },
  {
   "cell_type": "code",
   "execution_count": 46,
   "metadata": {},
   "outputs": [
    {
     "name": "stdout",
     "output_type": "stream",
     "text": [
      "The first image is: \n",
      "\n"
     ]
    },
    {
     "data": {
      "text/plain": [
       "<matplotlib.image.AxesImage at 0x120fdf60>"
      ]
     },
     "execution_count": 46,
     "metadata": {},
     "output_type": "execute_result"
    },
    {
     "data": {
      "image/png": "[encoded data removed]",
      "text/plain": [
       "<matplotlib.figure.Figure at 0x6c1cac50>"
      ]
     },
     "metadata": {},
     "output_type": "display_data"
    }
   ],
   "source": [
    "\"\"\"Reading in pre-processed images\"\"\"\n",
    "\n",
    "###Pre- Processing carried out by using preprocess_images.py written by the authors of the IM2LATEX\n",
    "PATH1 = \"C:/Users/z003tp7e/Desktop/p\"\n",
    "PATH2= \"C:/Users/z003tp7e/Desktop/im2latex_data/im2latex_formulas.lst\"\n",
    "\n",
    "images = {} #dictionary mapping from- name of image: image matrix\n",
    "\n",
    "\n",
    "for i,filename in enumerate(os.listdir(PATH1)):\n",
    "    if (i<100):\n",
    "        \n",
    "        img = Image.open(\"C:/Users/z003tp7e/Desktop/p/\" + filename) ##0 param reads the image as gray-scale--> IMREAD(F, 0)\n",
    "        #if img is not None:\n",
    "        ###reshape images to size(800, 800, 3), the max width and height for train,test, and val is 800\n",
    "\n",
    "        size= 100, 100               ##MOST IMAGES ARE UNDER THIS SIZE...REDUCE/INCREASE THIS IF NECESSARY\n",
    "        img = img.resize(size, Image.ANTIALIAS)\n",
    "\n",
    "        images[filename]= img\n",
    "\n",
    "labels= open(PATH2, newline=\"\\n\").readlines()\n",
    "\n",
    "print(\"The first image is: \\n\")\n",
    "import matplotlib.pyplot as plt\n",
    "%matplotlib inline\n",
    "plt.imshow(images['100009e256.png'])\n"
   ]
  },
  {
   "cell_type": "code",
   "execution_count": 47,
   "metadata": {
    "collapsed": true
   },
   "outputs": [],
   "source": [
    "\"\"\"TEMP LABELS FOR 100 IMAGES\"\"\"  ###remove when using full data\n",
    "lab_1k= labels[0:50]\n",
    "\n",
    "dat_short=[]\n",
    "for k, v in images.items():\n",
    "\n",
    "        dat_short.append(np.array(images[k]))\n",
    "        \n",
    "dat_short=np.array(dat_short).reshape((100,3,size[0], size[1]))"
   ]
  },
  {
   "cell_type": "code",
   "execution_count": 48,
   "metadata": {},
   "outputs": [
    {
     "ename": "KeyError",
     "evalue": "'60ee748793.png'",
     "output_type": "error",
     "traceback": [
      "\u001b[1;31m---------------------------------------------------------------------------\u001b[0m",
      "\u001b[1;31mKeyError\u001b[0m                                  Traceback (most recent call last)",
      "\u001b[1;32m<ipython-input-48-41e27bb8a480>\u001b[0m in \u001b[0;36m<module>\u001b[1;34m()\u001b[0m\n\u001b[0;32m     11\u001b[0m \u001b[0mval_ids\u001b[0m\u001b[1;33m=\u001b[0m \u001b[1;33m[\u001b[0m\u001b[0ml\u001b[0m\u001b[1;33m.\u001b[0m\u001b[0msplit\u001b[0m\u001b[1;33m(\u001b[0m\u001b[1;34m\" \"\u001b[0m\u001b[1;33m)\u001b[0m\u001b[1;33m[\u001b[0m\u001b[1;36m1\u001b[0m\u001b[1;33m]\u001b[0m \u001b[1;32mfor\u001b[0m \u001b[0ml\u001b[0m \u001b[1;32min\u001b[0m \u001b[0mval\u001b[0m\u001b[1;33m]\u001b[0m\u001b[1;33m\u001b[0m\u001b[0m\n\u001b[0;32m     12\u001b[0m \u001b[1;33m\u001b[0m\u001b[0m\n\u001b[1;32m---> 13\u001b[1;33m \u001b[0mX_train\u001b[0m\u001b[1;33m=\u001b[0m \u001b[1;33m[\u001b[0m\u001b[0mimages\u001b[0m\u001b[1;33m[\u001b[0m\u001b[1;33m(\u001b[0m\u001b[0mtid\u001b[0m \u001b[1;33m+\u001b[0m \u001b[1;34m\".png\"\u001b[0m\u001b[1;33m)\u001b[0m\u001b[1;33m]\u001b[0m \u001b[1;32mfor\u001b[0m \u001b[0mtid\u001b[0m \u001b[1;32min\u001b[0m \u001b[0mtrain_ids\u001b[0m\u001b[1;33m]\u001b[0m\u001b[1;33m\u001b[0m\u001b[0m\n\u001b[0m\u001b[0;32m     14\u001b[0m \u001b[0mX_test\u001b[0m\u001b[1;33m=\u001b[0m \u001b[1;33m[\u001b[0m\u001b[0mimages\u001b[0m\u001b[1;33m[\u001b[0m\u001b[1;33m(\u001b[0m\u001b[0mtid\u001b[0m \u001b[1;33m+\u001b[0m \u001b[1;34m\".png\"\u001b[0m\u001b[1;33m)\u001b[0m\u001b[1;33m]\u001b[0m \u001b[1;32mfor\u001b[0m \u001b[0mtid\u001b[0m \u001b[1;32min\u001b[0m \u001b[0mtest_ids\u001b[0m\u001b[1;33m]\u001b[0m\u001b[1;33m\u001b[0m\u001b[0m\n\u001b[0;32m     15\u001b[0m \u001b[0mX_val\u001b[0m\u001b[1;33m=\u001b[0m \u001b[1;33m[\u001b[0m\u001b[0mimages\u001b[0m\u001b[1;33m[\u001b[0m\u001b[1;33m(\u001b[0m\u001b[0mtid\u001b[0m \u001b[1;33m+\u001b[0m \u001b[1;34m\".png\"\u001b[0m\u001b[1;33m)\u001b[0m\u001b[1;33m]\u001b[0m \u001b[1;32mfor\u001b[0m \u001b[0mtid\u001b[0m \u001b[1;32min\u001b[0m \u001b[0mval_ids\u001b[0m\u001b[1;33m]\u001b[0m\u001b[1;33m\u001b[0m\u001b[0m\n",
      "\u001b[1;32m<ipython-input-48-41e27bb8a480>\u001b[0m in \u001b[0;36m<listcomp>\u001b[1;34m(.0)\u001b[0m\n\u001b[0;32m     11\u001b[0m \u001b[0mval_ids\u001b[0m\u001b[1;33m=\u001b[0m \u001b[1;33m[\u001b[0m\u001b[0ml\u001b[0m\u001b[1;33m.\u001b[0m\u001b[0msplit\u001b[0m\u001b[1;33m(\u001b[0m\u001b[1;34m\" \"\u001b[0m\u001b[1;33m)\u001b[0m\u001b[1;33m[\u001b[0m\u001b[1;36m1\u001b[0m\u001b[1;33m]\u001b[0m \u001b[1;32mfor\u001b[0m \u001b[0ml\u001b[0m \u001b[1;32min\u001b[0m \u001b[0mval\u001b[0m\u001b[1;33m]\u001b[0m\u001b[1;33m\u001b[0m\u001b[0m\n\u001b[0;32m     12\u001b[0m \u001b[1;33m\u001b[0m\u001b[0m\n\u001b[1;32m---> 13\u001b[1;33m \u001b[0mX_train\u001b[0m\u001b[1;33m=\u001b[0m \u001b[1;33m[\u001b[0m\u001b[0mimages\u001b[0m\u001b[1;33m[\u001b[0m\u001b[1;33m(\u001b[0m\u001b[0mtid\u001b[0m \u001b[1;33m+\u001b[0m \u001b[1;34m\".png\"\u001b[0m\u001b[1;33m)\u001b[0m\u001b[1;33m]\u001b[0m \u001b[1;32mfor\u001b[0m \u001b[0mtid\u001b[0m \u001b[1;32min\u001b[0m \u001b[0mtrain_ids\u001b[0m\u001b[1;33m]\u001b[0m\u001b[1;33m\u001b[0m\u001b[0m\n\u001b[0m\u001b[0;32m     14\u001b[0m \u001b[0mX_test\u001b[0m\u001b[1;33m=\u001b[0m \u001b[1;33m[\u001b[0m\u001b[0mimages\u001b[0m\u001b[1;33m[\u001b[0m\u001b[1;33m(\u001b[0m\u001b[0mtid\u001b[0m \u001b[1;33m+\u001b[0m \u001b[1;34m\".png\"\u001b[0m\u001b[1;33m)\u001b[0m\u001b[1;33m]\u001b[0m \u001b[1;32mfor\u001b[0m \u001b[0mtid\u001b[0m \u001b[1;32min\u001b[0m \u001b[0mtest_ids\u001b[0m\u001b[1;33m]\u001b[0m\u001b[1;33m\u001b[0m\u001b[0m\n\u001b[0;32m     15\u001b[0m \u001b[0mX_val\u001b[0m\u001b[1;33m=\u001b[0m \u001b[1;33m[\u001b[0m\u001b[0mimages\u001b[0m\u001b[1;33m[\u001b[0m\u001b[1;33m(\u001b[0m\u001b[0mtid\u001b[0m \u001b[1;33m+\u001b[0m \u001b[1;34m\".png\"\u001b[0m\u001b[1;33m)\u001b[0m\u001b[1;33m]\u001b[0m \u001b[1;32mfor\u001b[0m \u001b[0mtid\u001b[0m \u001b[1;32min\u001b[0m \u001b[0mval_ids\u001b[0m\u001b[1;33m]\u001b[0m\u001b[1;33m\u001b[0m\u001b[0m\n",
      "\u001b[1;31mKeyError\u001b[0m: '60ee748793.png'"
     ]
    }
   ],
   "source": [
    "\"\"\"SEGMENTING DATA BY IDS FOR TRAIN, TEST AND VALIDATION\"\"\"\n",
    "\n",
    "PATH3= \"C:/Users/z003tp7e/Desktop/im2latex_data/\"\n",
    "train= open(PATH3 + \"/\" + \"im2latex_train.lst\").readlines()\n",
    "test= open(PATH3 + \"/\" + \"im2latex_test.lst\").readlines()\n",
    "val= open(PATH3 + \"/\" + \"im2latex_validate.lst\").readlines()\n",
    "\n",
    "###images (input) ids corresponding to each id in train, test, and val data\n",
    "train_ids= [l.split(\" \")[1] for l in train]\n",
    "test_ids= [l.split(\" \")[1] for l in test]\n",
    "val_ids= [l.split(\" \")[1] for l in val]\n",
    "\n",
    "X_train= [images[(tid + \".png\")] for tid in train_ids]\n",
    "X_test= [images[(tid + \".png\")] for tid in test_ids]\n",
    "X_val= [images[(tid + \".png\")] for tid in val_ids]\n",
    "\n",
    "###labels ids corresponding to each image in the train, test and val data\n",
    "\n",
    "train_ids= [l.split(\" \")[0] for l in train]\n",
    "test_ids= [l.split(\" \")[0] for l in test]\n",
    "val_ids= [l.split(\" \")[0] for l in val]\n",
    "\n",
    "###split labels corresponding to ids in train, val and test\n",
    "\n",
    "y_train= [labels[int(i)] for i in train_ids]\n",
    "y_test= [labels[int(i)] for i in test_ids]\n",
    "y_val= [labels[int(i)] for i in val_ids]"
   ]
  },
  {
   "cell_type": "code",
   "execution_count": null,
   "metadata": {
    "collapsed": true
   },
   "outputs": [],
   "source": [
    "\"\"\"Use latex vocabulary and create char_to_idx, idx_to_char dictionaries\"\"\"\n",
    "PATH3= \"C:/Users/z003tp7e/Desktop/im2latex_data/\"\n",
    "PATH4= \"C:/Users/z003tp7e.AD001/Downloads/im2latex-tensorflow-master/im2markup\"\n",
    "PATH5= \"C:/Users/z003tp7e.AD001/Desktop/im2latex_data\"\n",
    "\n",
    "vocab = open(PATH4 +\"/latex_vocab.txt\").readlines()\n",
    "formulae = open(PATH4 +\"/formulas.norm.lst\",'r').readlines()\n",
    "char_to_idx = {x.split('\\n')[0]:i for i,x in enumerate(vocab)}\n",
    "# print len(char_to_idx)\n",
    "\n",
    "char_to_idx['#UNK'] = len(char_to_idx)\n",
    "char_to_idx['#START'] = len(char_to_idx)\n",
    "char_to_idx['#END'] = len(char_to_idx)\n",
    "idx_to_char = {y:x for x,y in char_to_idx.items()}\n",
    "\n",
    "print (\"The number of latex chars are:\", len(vocab))\n",
    "#len(vocab)"
   ]
  },
  {
   "cell_type": "code",
   "execution_count": null,
   "metadata": {
    "collapsed": true
   },
   "outputs": [],
   "source": [
    "\"\"\"Coverting formulae to Sequences of int\"\"\"\n",
    "\n",
    "def formula_to_indices(formula):\n",
    "    formula = formula.split(' ')\n",
    "    res = [0]\n",
    "    for token in formula:\n",
    "        if token in char_to_idx:\n",
    "            res.append( char_to_idx[token] + 3 )\n",
    "        else:\n",
    "            res.append(2)\n",
    "    res.append(1)\n",
    "    return res\n",
    "\n",
    "formulas = list(map( formula_to_indices, formulae))\n",
    "#lab_50= ([np.array(l) for l in (list(formulas)[0:50])])\n"
   ]
  },
  {
   "cell_type": "code",
   "execution_count": null,
   "metadata": {
    "collapsed": true
   },
   "outputs": [],
   "source": [
    "###zero-pad the formulas\n",
    "lab50=formulas[0:100]\n",
    "maxlen= max(len(lab50[i]) for i in range(len(lab50)))\n",
    "\n",
    "from keras.preprocessing.sequence import pad_sequences\n",
    "lab_0_padded= pad_sequences(lab50, maxlen)\n",
    "#lab_0_padded= lab_0_padded.reshape(lab_0_padded.shape[0], lab_0_padded.shape[1], 1)\n",
    "print(lab_0_padded.shape)\n",
    "\n",
    "lab_one_hot= np_utils.to_categorical(np.array(lab_0_padded))\n",
    "lab_one_hot=lab_one_hot.reshape(lab_0_padded.shape[0], lab_0_padded.shape[1], lab_one_hot.shape[1])"
   ]
  },
  {
   "cell_type": "code",
   "execution_count": null,
   "metadata": {
    "collapsed": true
   },
   "outputs": [],
   "source": [
    "def encoder_decoder(out_dim,attention= True):\n",
    "    \n",
    "    model.add(LSTM(out_dim, activation= 'relu', return_sequences=True) ) ##output_dim is the dimension of the output of enc\n",
    "    # with a Sequential model\n",
    "    get_3rd_layer_output = K.function([model.layers[0].input],[model.layers[3].output])\n",
    "    layer_output = get_3rd_layer_output([x])[0]  ##is v~ matrix in the paper...\n",
    "              \n",
    "    if attention:\n",
    "              pass\n",
    "              "
   ]
  },
  {
   "cell_type": "code",
   "execution_count": null,
   "metadata": {
    "collapsed": true
   },
   "outputs": [],
   "source": [
    "\"\"\"BUILDING THE NNET...\n",
    "   i/p--> CNN layers--> ENCODER --> ATTENTION --> DECODER\"\"\"\n",
    "\n",
    "model= Sequential()\n",
    "\n",
    "#CNN PART\n",
    "filter_no_lastlayer= 10                                                                                 #should be 512\n",
    "model.add(Conv2D(60, (3,3), input_shape=(3,size[0], size[1]), padding= \"same\", activation=\"relu\", use_bias=True)) #64 , TRY TO REDUCE SIZE OF IMAGES BY NOT INCLUSING PADDING\n",
    "#model.add(Conv2D(12, (3,3), padding= \"same\", activation=\"relu\", use_bias=True))                          #128\n",
    "#model.add(Conv2D(256, (3,3), padding= \"same\", activation=\"relu\", use_bias=True))                          #256\n",
    "#model.add(Conv2D(256, (3,3), padding= \"same\", activation=\"relu\", use_bias=True))                          #256\n",
    "#model.add(MaxPooling2D(pool_size=(2,1), data_format= \"channels_first\"))                                   #mp(2,1)\n",
    "#model.add(Conv2D(512, (3,3), padding= \"same\", activation=\"relu\", use_bias=True))                          #512\n",
    "#model.add(MaxPooling2D(pool_size=(1,2), data_format= \"channels_first\"))                                   #mp(1,2)\n",
    "model.add(Conv2D(filter_no_lastlayer, (3,3), padding= \"same\", activation=\"relu\", use_bias=True)) ##produces 512 2-d feature maps--> each enc vec is 512 dimensional\n",
    "#print(model.layers)\n",
    "\n",
    "# last_cnn_output = K.function([model.layers[0].input],[model.layers[1].output])\n",
    "# encoder_mat = last_cnn_output([dat_short])[0]  ##is v~ matrix in the paper...\n",
    "# print(encoder_mat.shape)\n",
    "\n",
    "#x is the data to get output on: x=data\n",
    "\n",
    "#beam-search\n",
    "cnn_out= model.predict(dat_short)\n",
    "print(\"The shape of the matrix of the last CNN Layer is:\", cnn_out.shape)\n",
    "\n"
   ]
  },
  {
   "cell_type": "code",
   "execution_count": null,
   "metadata": {
    "collapsed": true
   },
   "outputs": [],
   "source": [
    "\"\"\"SEQ2SEQ MODEL\"\"\"\n",
    "\n",
    "#params\n",
    "cnn_out=cnn_out.reshape(100, size[0]*size[1],10)\n",
    "xtr= cnn_out[0:90]\n",
    "ytr= lab_one_hot[0:90]\n",
    "xte=cnn_out[90:100]\n",
    "yte=lab_one_hot[90:100]\n",
    "hid_dim=10\n",
    "depth= 2 ##no of LSTM layers in seq2seq\n",
    "\n",
    "model_s2s= Sequential()\n",
    "model_s2s = AttentionSeq2Seq(input_dim=filter_no_lastlayer, input_length=size[0]*size[1], hidden_dim=hid_dim, output_length=maxlen, output_dim=lab_one_hot.shape[2], depth=depth)\n",
    "model_s2s.compile(loss='categorical_crossentropy', optimizer='rmsprop')\n",
    "\n",
    "#model_s2s.fit(cnn_out, lab50)"
   ]
  },
  {
   "cell_type": "code",
   "execution_count": null,
   "metadata": {
    "collapsed": true
   },
   "outputs": [],
   "source": [
    "model_s2s.fit(xtr, ytr)\n",
    "#pred= model.predict(xte, yte)"
   ]
  },
  {
   "cell_type": "code",
   "execution_count": null,
   "metadata": {
    "collapsed": true
   },
   "outputs": [],
   "source": [
    "pred= model_s2s.predict(xte)"
   ]
  },
  {
   "cell_type": "code",
   "execution_count": null,
   "metadata": {
    "collapsed": true
   },
   "outputs": [],
   "source": [
    "pred.shape\n",
    "idx= np.argmax(pred[2], axis=1)\n",
    "\n",
    "res_1= [idx_to_char[idx[i]] for i in range(len(idx))]\n"
   ]
  },
  {
   "cell_type": "code",
   "execution_count": null,
   "metadata": {
    "collapsed": true
   },
   "outputs": [],
   "source": [
    "np.argmax(pred[3], axis=1)\n",
    "res_1"
   ]
  },
  {
   "cell_type": "code",
   "execution_count": null,
   "metadata": {
    "collapsed": true
   },
   "outputs": [],
   "source": [
    "images['100da50051.png']"
   ]
  },
  {
   "cell_type": "code",
   "execution_count": null,
   "metadata": {
    "collapsed": true
   },
   "outputs": [],
   "source": [
    "# variation to https://github.com/ryankiros/skip-thoughts/blob/master/decoding/search.py\n",
    " \n",
    "def keras_rnn_predict(samples, empty=empty, rnn_model=model, maxlen=maxlen):\n",
    "    \"\"\"for every sample, calculate probability for every possible label\n",
    "    you need to supply your RNN model and maxlen - the length of sequences it can handle\n",
    "    \"\"\"\n",
    "    data = sequence.pad_sequences(samples, maxlen=maxlen, value=empty)\n",
    "    return rnn_model.predict(data, verbose=0)\n",
    " \n",
    "def beamsearch(predict=keras_rnn_predict,\n",
    "               k=1, maxsample=400, use_unk=False, oov=oov, empty=empty, eos=eos):\n",
    "    \"\"\"return k samples (beams) and their NLL scores, each sample is a sequence of labels,\n",
    "    all samples starts with an `empty` label and end with `eos` or truncated to length of `maxsample`.\n",
    "    You need to supply `predict` which returns the label probability of each sample.\n",
    "    `use_unk` allow usage of `oov` (out-of-vocabulary) label in samples\n",
    "    \"\"\"\n",
    "     \n",
    "    dead_k = 0 # samples that reached eos\n",
    "    dead_samples = []\n",
    "    dead_scores = []\n",
    "    live_k = 1 # samples that did not yet reached eos\n",
    "    live_samples = [[empty]]\n",
    "    live_scores = [0]\n",
    " \n",
    "    while live_k and dead_k < k:\n",
    "        # for every possible live sample calc prob for every possible label \n",
    "        probs = predict(live_samples, empty=empty)\n",
    " \n",
    "        # total score for every sample is sum of -log of word prb\n",
    "        cand_scores = np.array(live_scores)[:,None] - np.log(probs)\n",
    "        if not use_unk and oov is not None:\n",
    "            cand_scores[:,oov] = 1e20\n",
    "        cand_flat = cand_scores.flatten()\n",
    " \n",
    "        # find the best (lowest) scores we have from all possible samples and new words\n",
    "        ranks_flat = cand_flat.argsort()[:(k-dead_k)]\n",
    "        live_scores = cand_flat[ranks_flat]\n",
    " \n",
    "        # append the new words to their appropriate live sample\n",
    "        voc_size = probs.shape[1]\n",
    "        live_samples = [live_samples[r//voc_size]+[r%voc_size] for r in ranks_flat]\n",
    " \n",
    "        # live samples that should be dead are...\n",
    "        zombie = [s[-1] == eos or len(s) >= maxsample for s in live_samples]\n",
    "         \n",
    "        # add zombies to the dead\n",
    "        dead_samples += [s for s,z in zip(live_samples,zombie) if z]  # remove first label == empty\n",
    "        dead_scores += [s for s,z in zip(live_scores,zombie) if z]\n",
    "        dead_k = len(dead_samples)\n",
    "        # remove zombies from the living \n",
    "        live_samples = [s for s,z in zip(live_samples,zombie) if not z]\n",
    "        live_scores = [s for s,z in zip(live_scores,zombie) if not z]\n",
    "        live_k = len(live_samples)\n",
    " \n",
    "    return dead_samples + live_samples, dead_scores + live_scores "
   ]
  },
  {
   "cell_type": "code",
   "execution_count": 16,
   "metadata": {},
   "outputs": [
    {
     "ename": "AttributeError",
     "evalue": "module 'tensorflow.contrib.rnn' has no attribute 'AttentionWrapper'",
     "output_type": "error",
     "traceback": [
      "\u001b[1;31m---------------------------------------------------------------------------\u001b[0m",
      "\u001b[1;31mAttributeError\u001b[0m                            Traceback (most recent call last)",
      "\u001b[1;32m<ipython-input-16-eb7687c9496d>\u001b[0m in \u001b[0;36m<module>\u001b[1;34m()\u001b[0m\n\u001b[0;32m      1\u001b[0m \u001b[1;32mimport\u001b[0m \u001b[0mtensorflow\u001b[0m \u001b[1;32mas\u001b[0m \u001b[0mtf\u001b[0m\u001b[1;33m\u001b[0m\u001b[0m\n\u001b[0;32m      2\u001b[0m \u001b[1;32mfrom\u001b[0m \u001b[0mtensorflow\u001b[0m\u001b[1;33m.\u001b[0m\u001b[0mcontrib\u001b[0m\u001b[1;33m.\u001b[0m\u001b[0mrnn\u001b[0m \u001b[1;32mimport\u001b[0m \u001b[0mBasicLSTMCell\u001b[0m\u001b[1;33m\u001b[0m\u001b[0m\n\u001b[1;32m----> 3\u001b[1;33m \u001b[0mcell\u001b[0m\u001b[1;33m=\u001b[0m \u001b[0mtf\u001b[0m\u001b[1;33m.\u001b[0m\u001b[0mcontrib\u001b[0m\u001b[1;33m.\u001b[0m\u001b[0mrnn\u001b[0m\u001b[1;33m.\u001b[0m\u001b[0mAttentionWrapper\u001b[0m\u001b[1;33m(\u001b[0m\u001b[0mBasicLSTMCell\u001b[0m\u001b[1;33m(\u001b[0m\u001b[1;36m512\u001b[0m\u001b[1;33m)\u001b[0m\u001b[1;33m)\u001b[0m\u001b[1;33m\u001b[0m\u001b[0m\n\u001b[0m",
      "\u001b[1;31mAttributeError\u001b[0m: module 'tensorflow.contrib.rnn' has no attribute 'AttentionWrapper'"
     ]
    }
   ],
   "source": [
    "import tensorflow as tf\n",
    "from tensorflow.contrib.rnn import BasicLSTMCell\n",
    "cell= tf.contrib.rnn.AttentionWrapper(BasicLSTMCell(512))"
   ]
  },
  {
   "cell_type": "code",
   "execution_count": 2,
   "metadata": {},
   "outputs": [
    {
     "data": {
      "text/plain": [
       "'1.2.1'"
      ]
     },
     "execution_count": 2,
     "metadata": {},
     "output_type": "execute_result"
    }
   ],
   "source": []
  },
  {
   "cell_type": "code",
   "execution_count": null,
   "metadata": {
    "collapsed": true
   },
   "outputs": [],
   "source": []
  }
 ],
 "metadata": {
  "kernelspec": {
   "display_name": "Python 3",
   "language": "python",
   "name": "python3"
  },
  "language_info": {
   "codemirror_mode": {
    "name": "ipython",
    "version": 3
   },
   "file_extension": ".py",
   "mimetype": "text/x-python",
   "name": "python",
   "nbconvert_exporter": "python",
   "pygments_lexer": "ipython3",
   "version": "3.6.1"
  }
 },
 "nbformat": 4,
 "nbformat_minor": 2
}
